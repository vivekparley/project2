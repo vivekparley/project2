{
  "nbformat": 4,
  "nbformat_minor": 0,
  "metadata": {
    "colab": {
      "provenance": []
    },
    "kernelspec": {
      "name": "python3",
      "display_name": "Python 3"
    },
    "language_info": {
      "name": "python"
    }
  },
  "cells": [
    {
      "cell_type": "markdown",
      "source": [
        "# **INTRODUCTION TO OPTIONS**"
      ],
      "metadata": {
        "id": "MZwlf3lDH52f"
      }
    },
    {
      "cell_type": "markdown",
      "source": [
        "[Basics of options](https://corporatefinanceinstitute.com/resources/derivatives/options-calls-and-puts/)"
      ],
      "metadata": {
        "id": "QhBHL2vlHxth"
      }
    },
    {
      "cell_type": "code",
      "source": [
        "!pip install yfinance"
      ],
      "metadata": {
        "colab": {
          "base_uri": "https://localhost:8080/"
        },
        "id": "07EshAGkIUpm",
        "outputId": "d16df378-65c1-4914-b259-f389677ae0cc"
      },
      "execution_count": 1,
      "outputs": [
        {
          "output_type": "stream",
          "name": "stdout",
          "text": [
            "Looking in indexes: https://pypi.org/simple, https://us-python.pkg.dev/colab-wheels/public/simple/\n",
            "Requirement already satisfied: yfinance in /usr/local/lib/python3.10/dist-packages (0.2.18)\n",
            "Requirement already satisfied: pandas>=1.3.0 in /usr/local/lib/python3.10/dist-packages (from yfinance) (1.5.3)\n",
            "Requirement already satisfied: numpy>=1.16.5 in /usr/local/lib/python3.10/dist-packages (from yfinance) (1.22.4)\n",
            "Requirement already satisfied: requests>=2.26 in /usr/local/lib/python3.10/dist-packages (from yfinance) (2.27.1)\n",
            "Requirement already satisfied: multitasking>=0.0.7 in /usr/local/lib/python3.10/dist-packages (from yfinance) (0.0.11)\n",
            "Requirement already satisfied: lxml>=4.9.1 in /usr/local/lib/python3.10/dist-packages (from yfinance) (4.9.2)\n",
            "Requirement already satisfied: appdirs>=1.4.4 in /usr/local/lib/python3.10/dist-packages (from yfinance) (1.4.4)\n",
            "Requirement already satisfied: pytz>=2022.5 in /usr/local/lib/python3.10/dist-packages (from yfinance) (2022.7.1)\n",
            "Requirement already satisfied: frozendict>=2.3.4 in /usr/local/lib/python3.10/dist-packages (from yfinance) (2.3.7)\n",
            "Requirement already satisfied: cryptography>=3.3.2 in /usr/local/lib/python3.10/dist-packages (from yfinance) (40.0.2)\n",
            "Requirement already satisfied: beautifulsoup4>=4.11.1 in /usr/local/lib/python3.10/dist-packages (from yfinance) (4.11.2)\n",
            "Requirement already satisfied: html5lib>=1.1 in /usr/local/lib/python3.10/dist-packages (from yfinance) (1.1)\n",
            "Requirement already satisfied: soupsieve>1.2 in /usr/local/lib/python3.10/dist-packages (from beautifulsoup4>=4.11.1->yfinance) (2.4.1)\n",
            "Requirement already satisfied: cffi>=1.12 in /usr/local/lib/python3.10/dist-packages (from cryptography>=3.3.2->yfinance) (1.15.1)\n",
            "Requirement already satisfied: six>=1.9 in /usr/local/lib/python3.10/dist-packages (from html5lib>=1.1->yfinance) (1.16.0)\n",
            "Requirement already satisfied: webencodings in /usr/local/lib/python3.10/dist-packages (from html5lib>=1.1->yfinance) (0.5.1)\n",
            "Requirement already satisfied: python-dateutil>=2.8.1 in /usr/local/lib/python3.10/dist-packages (from pandas>=1.3.0->yfinance) (2.8.2)\n",
            "Requirement already satisfied: urllib3<1.27,>=1.21.1 in /usr/local/lib/python3.10/dist-packages (from requests>=2.26->yfinance) (1.26.15)\n",
            "Requirement already satisfied: certifi>=2017.4.17 in /usr/local/lib/python3.10/dist-packages (from requests>=2.26->yfinance) (2022.12.7)\n",
            "Requirement already satisfied: charset-normalizer~=2.0.0 in /usr/local/lib/python3.10/dist-packages (from requests>=2.26->yfinance) (2.0.12)\n",
            "Requirement already satisfied: idna<4,>=2.5 in /usr/local/lib/python3.10/dist-packages (from requests>=2.26->yfinance) (3.4)\n",
            "Requirement already satisfied: pycparser in /usr/local/lib/python3.10/dist-packages (from cffi>=1.12->cryptography>=3.3.2->yfinance) (2.21)\n"
          ]
        }
      ]
    },
    {
      "cell_type": "markdown",
      "source": [
        "**IMPORTING THE LIBRARIES**"
      ],
      "metadata": {
        "id": "cyMM0PGrIOVN"
      }
    },
    {
      "cell_type": "code",
      "execution_count": 4,
      "metadata": {
        "id": "LJQBZ_eDHI_X"
      },
      "outputs": [],
      "source": [
        "import pandas as pd\n",
        "import matplotlib.pyplot as plt\n",
        "import numpy as np\n",
        "\n",
        "from datetime import date\n",
        "\n",
        "\n",
        "import warnings\n",
        "warnings.filterwarnings(\"ignore\")\n",
        "\n",
        "# to fetch data \n",
        "import yfinance as yf"
      ]
    },
    {
      "cell_type": "markdown",
      "source": [
        "**IMPORTING DATA FOR OPTIONS**"
      ],
      "metadata": {
        "id": "OTC-bzdhIiux"
      }
    },
    {
      "cell_type": "code",
      "source": [
        "symbol = '^SPX'  #the ticker of the stock whose data is to be taken out\n",
        "dfo = yf.Ticker(symbol)"
      ],
      "metadata": {
        "id": "CMJDFOO8IgJd"
      },
      "execution_count": 5,
      "outputs": []
    },
    {
      "cell_type": "code",
      "source": [
        "dfo.options  #to get the date of different expiration time"
      ],
      "metadata": {
        "colab": {
          "base_uri": "https://localhost:8080/"
        },
        "id": "xS3hkg6zIrw4",
        "outputId": "2c4431da-9035-4d02-fb37-af9420facfcf"
      },
      "execution_count": 6,
      "outputs": [
        {
          "output_type": "execute_result",
          "data": {
            "text/plain": [
              "('2023-05-23',\n",
              " '2023-05-24',\n",
              " '2023-05-25',\n",
              " '2023-05-26',\n",
              " '2023-05-30',\n",
              " '2023-05-31',\n",
              " '2023-06-01',\n",
              " '2023-06-02',\n",
              " '2023-06-05',\n",
              " '2023-06-06',\n",
              " '2023-06-07',\n",
              " '2023-06-08',\n",
              " '2023-06-09',\n",
              " '2023-06-12',\n",
              " '2023-06-13',\n",
              " '2023-06-14',\n",
              " '2023-06-15',\n",
              " '2023-06-16',\n",
              " '2023-06-20',\n",
              " '2023-06-23',\n",
              " '2023-06-26',\n",
              " '2023-06-30',\n",
              " '2023-07-03',\n",
              " '2023-07-07',\n",
              " '2023-07-21',\n",
              " '2023-07-31',\n",
              " '2023-08-18',\n",
              " '2023-08-31',\n",
              " '2023-09-15',\n",
              " '2023-09-29',\n",
              " '2023-10-20',\n",
              " '2023-10-31',\n",
              " '2023-11-17',\n",
              " '2023-12-15',\n",
              " '2023-12-29',\n",
              " '2024-01-19',\n",
              " '2024-02-16',\n",
              " '2024-03-15',\n",
              " '2024-03-28',\n",
              " '2024-04-19',\n",
              " '2024-05-17',\n",
              " '2024-06-21',\n",
              " '2024-12-20',\n",
              " '2025-12-19',\n",
              " '2026-03-20',\n",
              " '2026-12-18',\n",
              " '2027-12-17')"
            ]
          },
          "metadata": {},
          "execution_count": 6
        }
      ]
    },
    {
      "cell_type": "code",
      "source": [
        "dfo_exp = dfo.option_chain(dfo.options[1])  #to get data of next recent expiry date"
      ],
      "metadata": {
        "id": "MUQOscC4JC9w"
      },
      "execution_count": 7,
      "outputs": []
    },
    {
      "cell_type": "code",
      "source": [
        "dfo_exp.calls #Data for call options"
      ],
      "metadata": {
        "colab": {
          "base_uri": "https://localhost:8080/",
          "height": 624
        },
        "id": "4o7lLpnzJDsN",
        "outputId": "ebb78abb-7079-48c6-e69c-344d027a020d"
      },
      "execution_count": 8,
      "outputs": [
        {
          "output_type": "execute_result",
          "data": {
            "text/plain": [
              "         contractSymbol             lastTradeDate  strike  lastPrice     bid  \\\n",
              "0   SPXW230524C01200000 2023-05-22 13:46:07+00:00  1200.0    3001.83  2997.5   \n",
              "1   SPXW230524C01400000 2023-05-18 08:00:15+00:00  1400.0    2763.20  2797.4   \n",
              "2   SPXW230524C02600000 2023-05-19 14:39:59+00:00  2600.0    1610.32  1597.7   \n",
              "3   SPXW230524C03100000 2023-05-19 14:39:59+00:00  3100.0    1110.62  1097.6   \n",
              "4   SPXW230524C03600000 2023-05-22 18:35:00+00:00  3600.0     603.48   597.9   \n",
              "..                  ...                       ...     ...        ...     ...   \n",
              "88  SPXW230524C04450000 2023-05-22 19:51:13+00:00  4450.0       0.05     0.0   \n",
              "89  SPXW230524C04500000 2023-05-22 19:51:31+00:00  4500.0       0.05     0.0   \n",
              "90  SPXW230524C04600000 2023-05-22 15:11:35+00:00  4600.0       0.05     0.0   \n",
              "91  SPXW230524C04700000 2023-05-19 20:02:49+00:00  4700.0       0.05     0.0   \n",
              "92  SPXW230524C04800000 2023-05-01 13:54:30+00:00  4800.0       0.07     0.0   \n",
              "\n",
              "        ask  change  percentChange  volume  openInterest  impliedVolatility  \\\n",
              "0   2998.90     0.0            0.0     1.0             0           7.597657   \n",
              "1   2799.00     0.0            0.0     NaN             0           6.704591   \n",
              "2   1599.20     0.0            0.0     1.0             0           3.160525   \n",
              "3   1099.10     0.0            0.0     1.0             0           2.111333   \n",
              "4    599.30     0.0            0.0     3.0             0           1.196110   \n",
              "..      ...     ...            ...     ...           ...                ...   \n",
              "88     0.05     0.0            0.0   109.0             0           0.278328   \n",
              "89     0.10     0.0            0.0  1169.0             0           0.347663   \n",
              "90     0.05     0.0            0.0     1.0             0           0.416021   \n",
              "91     0.05     0.0            0.0   500.0             0           0.503911   \n",
              "92     0.05     0.0            0.0     NaN             0           0.556645   \n",
              "\n",
              "    inTheMoney contractSize currency  \n",
              "0         True      REGULAR      USD  \n",
              "1         True      REGULAR      USD  \n",
              "2         True      REGULAR      USD  \n",
              "3         True      REGULAR      USD  \n",
              "4         True      REGULAR      USD  \n",
              "..         ...          ...      ...  \n",
              "88       False      REGULAR      USD  \n",
              "89       False      REGULAR      USD  \n",
              "90       False      REGULAR      USD  \n",
              "91       False      REGULAR      USD  \n",
              "92       False      REGULAR      USD  \n",
              "\n",
              "[93 rows x 14 columns]"
            ],
            "text/html": [
              "\n",
              "  <div id=\"df-5c2e6ac1-41dd-45b9-a5a7-7d1692eb9175\">\n",
              "    <div class=\"colab-df-container\">\n",
              "      <div>\n",
              "<style scoped>\n",
              "    .dataframe tbody tr th:only-of-type {\n",
              "        vertical-align: middle;\n",
              "    }\n",
              "\n",
              "    .dataframe tbody tr th {\n",
              "        vertical-align: top;\n",
              "    }\n",
              "\n",
              "    .dataframe thead th {\n",
              "        text-align: right;\n",
              "    }\n",
              "</style>\n",
              "<table border=\"1\" class=\"dataframe\">\n",
              "  <thead>\n",
              "    <tr style=\"text-align: right;\">\n",
              "      <th></th>\n",
              "      <th>contractSymbol</th>\n",
              "      <th>lastTradeDate</th>\n",
              "      <th>strike</th>\n",
              "      <th>lastPrice</th>\n",
              "      <th>bid</th>\n",
              "      <th>ask</th>\n",
              "      <th>change</th>\n",
              "      <th>percentChange</th>\n",
              "      <th>volume</th>\n",
              "      <th>openInterest</th>\n",
              "      <th>impliedVolatility</th>\n",
              "      <th>inTheMoney</th>\n",
              "      <th>contractSize</th>\n",
              "      <th>currency</th>\n",
              "    </tr>\n",
              "  </thead>\n",
              "  <tbody>\n",
              "    <tr>\n",
              "      <th>0</th>\n",
              "      <td>SPXW230524C01200000</td>\n",
              "      <td>2023-05-22 13:46:07+00:00</td>\n",
              "      <td>1200.0</td>\n",
              "      <td>3001.83</td>\n",
              "      <td>2997.5</td>\n",
              "      <td>2998.90</td>\n",
              "      <td>0.0</td>\n",
              "      <td>0.0</td>\n",
              "      <td>1.0</td>\n",
              "      <td>0</td>\n",
              "      <td>7.597657</td>\n",
              "      <td>True</td>\n",
              "      <td>REGULAR</td>\n",
              "      <td>USD</td>\n",
              "    </tr>\n",
              "    <tr>\n",
              "      <th>1</th>\n",
              "      <td>SPXW230524C01400000</td>\n",
              "      <td>2023-05-18 08:00:15+00:00</td>\n",
              "      <td>1400.0</td>\n",
              "      <td>2763.20</td>\n",
              "      <td>2797.4</td>\n",
              "      <td>2799.00</td>\n",
              "      <td>0.0</td>\n",
              "      <td>0.0</td>\n",
              "      <td>NaN</td>\n",
              "      <td>0</td>\n",
              "      <td>6.704591</td>\n",
              "      <td>True</td>\n",
              "      <td>REGULAR</td>\n",
              "      <td>USD</td>\n",
              "    </tr>\n",
              "    <tr>\n",
              "      <th>2</th>\n",
              "      <td>SPXW230524C02600000</td>\n",
              "      <td>2023-05-19 14:39:59+00:00</td>\n",
              "      <td>2600.0</td>\n",
              "      <td>1610.32</td>\n",
              "      <td>1597.7</td>\n",
              "      <td>1599.20</td>\n",
              "      <td>0.0</td>\n",
              "      <td>0.0</td>\n",
              "      <td>1.0</td>\n",
              "      <td>0</td>\n",
              "      <td>3.160525</td>\n",
              "      <td>True</td>\n",
              "      <td>REGULAR</td>\n",
              "      <td>USD</td>\n",
              "    </tr>\n",
              "    <tr>\n",
              "      <th>3</th>\n",
              "      <td>SPXW230524C03100000</td>\n",
              "      <td>2023-05-19 14:39:59+00:00</td>\n",
              "      <td>3100.0</td>\n",
              "      <td>1110.62</td>\n",
              "      <td>1097.6</td>\n",
              "      <td>1099.10</td>\n",
              "      <td>0.0</td>\n",
              "      <td>0.0</td>\n",
              "      <td>1.0</td>\n",
              "      <td>0</td>\n",
              "      <td>2.111333</td>\n",
              "      <td>True</td>\n",
              "      <td>REGULAR</td>\n",
              "      <td>USD</td>\n",
              "    </tr>\n",
              "    <tr>\n",
              "      <th>4</th>\n",
              "      <td>SPXW230524C03600000</td>\n",
              "      <td>2023-05-22 18:35:00+00:00</td>\n",
              "      <td>3600.0</td>\n",
              "      <td>603.48</td>\n",
              "      <td>597.9</td>\n",
              "      <td>599.30</td>\n",
              "      <td>0.0</td>\n",
              "      <td>0.0</td>\n",
              "      <td>3.0</td>\n",
              "      <td>0</td>\n",
              "      <td>1.196110</td>\n",
              "      <td>True</td>\n",
              "      <td>REGULAR</td>\n",
              "      <td>USD</td>\n",
              "    </tr>\n",
              "    <tr>\n",
              "      <th>...</th>\n",
              "      <td>...</td>\n",
              "      <td>...</td>\n",
              "      <td>...</td>\n",
              "      <td>...</td>\n",
              "      <td>...</td>\n",
              "      <td>...</td>\n",
              "      <td>...</td>\n",
              "      <td>...</td>\n",
              "      <td>...</td>\n",
              "      <td>...</td>\n",
              "      <td>...</td>\n",
              "      <td>...</td>\n",
              "      <td>...</td>\n",
              "      <td>...</td>\n",
              "    </tr>\n",
              "    <tr>\n",
              "      <th>88</th>\n",
              "      <td>SPXW230524C04450000</td>\n",
              "      <td>2023-05-22 19:51:13+00:00</td>\n",
              "      <td>4450.0</td>\n",
              "      <td>0.05</td>\n",
              "      <td>0.0</td>\n",
              "      <td>0.05</td>\n",
              "      <td>0.0</td>\n",
              "      <td>0.0</td>\n",
              "      <td>109.0</td>\n",
              "      <td>0</td>\n",
              "      <td>0.278328</td>\n",
              "      <td>False</td>\n",
              "      <td>REGULAR</td>\n",
              "      <td>USD</td>\n",
              "    </tr>\n",
              "    <tr>\n",
              "      <th>89</th>\n",
              "      <td>SPXW230524C04500000</td>\n",
              "      <td>2023-05-22 19:51:31+00:00</td>\n",
              "      <td>4500.0</td>\n",
              "      <td>0.05</td>\n",
              "      <td>0.0</td>\n",
              "      <td>0.10</td>\n",
              "      <td>0.0</td>\n",
              "      <td>0.0</td>\n",
              "      <td>1169.0</td>\n",
              "      <td>0</td>\n",
              "      <td>0.347663</td>\n",
              "      <td>False</td>\n",
              "      <td>REGULAR</td>\n",
              "      <td>USD</td>\n",
              "    </tr>\n",
              "    <tr>\n",
              "      <th>90</th>\n",
              "      <td>SPXW230524C04600000</td>\n",
              "      <td>2023-05-22 15:11:35+00:00</td>\n",
              "      <td>4600.0</td>\n",
              "      <td>0.05</td>\n",
              "      <td>0.0</td>\n",
              "      <td>0.05</td>\n",
              "      <td>0.0</td>\n",
              "      <td>0.0</td>\n",
              "      <td>1.0</td>\n",
              "      <td>0</td>\n",
              "      <td>0.416021</td>\n",
              "      <td>False</td>\n",
              "      <td>REGULAR</td>\n",
              "      <td>USD</td>\n",
              "    </tr>\n",
              "    <tr>\n",
              "      <th>91</th>\n",
              "      <td>SPXW230524C04700000</td>\n",
              "      <td>2023-05-19 20:02:49+00:00</td>\n",
              "      <td>4700.0</td>\n",
              "      <td>0.05</td>\n",
              "      <td>0.0</td>\n",
              "      <td>0.05</td>\n",
              "      <td>0.0</td>\n",
              "      <td>0.0</td>\n",
              "      <td>500.0</td>\n",
              "      <td>0</td>\n",
              "      <td>0.503911</td>\n",
              "      <td>False</td>\n",
              "      <td>REGULAR</td>\n",
              "      <td>USD</td>\n",
              "    </tr>\n",
              "    <tr>\n",
              "      <th>92</th>\n",
              "      <td>SPXW230524C04800000</td>\n",
              "      <td>2023-05-01 13:54:30+00:00</td>\n",
              "      <td>4800.0</td>\n",
              "      <td>0.07</td>\n",
              "      <td>0.0</td>\n",
              "      <td>0.05</td>\n",
              "      <td>0.0</td>\n",
              "      <td>0.0</td>\n",
              "      <td>NaN</td>\n",
              "      <td>0</td>\n",
              "      <td>0.556645</td>\n",
              "      <td>False</td>\n",
              "      <td>REGULAR</td>\n",
              "      <td>USD</td>\n",
              "    </tr>\n",
              "  </tbody>\n",
              "</table>\n",
              "<p>93 rows × 14 columns</p>\n",
              "</div>\n",
              "      <button class=\"colab-df-convert\" onclick=\"convertToInteractive('df-5c2e6ac1-41dd-45b9-a5a7-7d1692eb9175')\"\n",
              "              title=\"Convert this dataframe to an interactive table.\"\n",
              "              style=\"display:none;\">\n",
              "        \n",
              "  <svg xmlns=\"http://www.w3.org/2000/svg\" height=\"24px\"viewBox=\"0 0 24 24\"\n",
              "       width=\"24px\">\n",
              "    <path d=\"M0 0h24v24H0V0z\" fill=\"none\"/>\n",
              "    <path d=\"M18.56 5.44l.94 2.06.94-2.06 2.06-.94-2.06-.94-.94-2.06-.94 2.06-2.06.94zm-11 1L8.5 8.5l.94-2.06 2.06-.94-2.06-.94L8.5 2.5l-.94 2.06-2.06.94zm10 10l.94 2.06.94-2.06 2.06-.94-2.06-.94-.94-2.06-.94 2.06-2.06.94z\"/><path d=\"M17.41 7.96l-1.37-1.37c-.4-.4-.92-.59-1.43-.59-.52 0-1.04.2-1.43.59L10.3 9.45l-7.72 7.72c-.78.78-.78 2.05 0 2.83L4 21.41c.39.39.9.59 1.41.59.51 0 1.02-.2 1.41-.59l7.78-7.78 2.81-2.81c.8-.78.8-2.07 0-2.86zM5.41 20L4 18.59l7.72-7.72 1.47 1.35L5.41 20z\"/>\n",
              "  </svg>\n",
              "      </button>\n",
              "      \n",
              "  <style>\n",
              "    .colab-df-container {\n",
              "      display:flex;\n",
              "      flex-wrap:wrap;\n",
              "      gap: 12px;\n",
              "    }\n",
              "\n",
              "    .colab-df-convert {\n",
              "      background-color: #E8F0FE;\n",
              "      border: none;\n",
              "      border-radius: 50%;\n",
              "      cursor: pointer;\n",
              "      display: none;\n",
              "      fill: #1967D2;\n",
              "      height: 32px;\n",
              "      padding: 0 0 0 0;\n",
              "      width: 32px;\n",
              "    }\n",
              "\n",
              "    .colab-df-convert:hover {\n",
              "      background-color: #E2EBFA;\n",
              "      box-shadow: 0px 1px 2px rgba(60, 64, 67, 0.3), 0px 1px 3px 1px rgba(60, 64, 67, 0.15);\n",
              "      fill: #174EA6;\n",
              "    }\n",
              "\n",
              "    [theme=dark] .colab-df-convert {\n",
              "      background-color: #3B4455;\n",
              "      fill: #D2E3FC;\n",
              "    }\n",
              "\n",
              "    [theme=dark] .colab-df-convert:hover {\n",
              "      background-color: #434B5C;\n",
              "      box-shadow: 0px 1px 3px 1px rgba(0, 0, 0, 0.15);\n",
              "      filter: drop-shadow(0px 1px 2px rgba(0, 0, 0, 0.3));\n",
              "      fill: #FFFFFF;\n",
              "    }\n",
              "  </style>\n",
              "\n",
              "      <script>\n",
              "        const buttonEl =\n",
              "          document.querySelector('#df-5c2e6ac1-41dd-45b9-a5a7-7d1692eb9175 button.colab-df-convert');\n",
              "        buttonEl.style.display =\n",
              "          google.colab.kernel.accessAllowed ? 'block' : 'none';\n",
              "\n",
              "        async function convertToInteractive(key) {\n",
              "          const element = document.querySelector('#df-5c2e6ac1-41dd-45b9-a5a7-7d1692eb9175');\n",
              "          const dataTable =\n",
              "            await google.colab.kernel.invokeFunction('convertToInteractive',\n",
              "                                                     [key], {});\n",
              "          if (!dataTable) return;\n",
              "\n",
              "          const docLinkHtml = 'Like what you see? Visit the ' +\n",
              "            '<a target=\"_blank\" href=https://colab.research.google.com/notebooks/data_table.ipynb>data table notebook</a>'\n",
              "            + ' to learn more about interactive tables.';\n",
              "          element.innerHTML = '';\n",
              "          dataTable['output_type'] = 'display_data';\n",
              "          await google.colab.output.renderOutput(dataTable, element);\n",
              "          const docLink = document.createElement('div');\n",
              "          docLink.innerHTML = docLinkHtml;\n",
              "          element.appendChild(docLink);\n",
              "        }\n",
              "      </script>\n",
              "    </div>\n",
              "  </div>\n",
              "  "
            ]
          },
          "metadata": {},
          "execution_count": 8
        }
      ]
    },
    {
      "cell_type": "code",
      "source": [
        "dfo_exp.puts #Data for put options"
      ],
      "metadata": {
        "colab": {
          "base_uri": "https://localhost:8080/",
          "height": 641
        },
        "id": "tqkpR2LUJVjw",
        "outputId": "68e2d852-d15f-406a-837f-5164da1a832f"
      },
      "execution_count": 9,
      "outputs": [
        {
          "output_type": "execute_result",
          "data": {
            "text/plain": [
              "          contractSymbol             lastTradeDate  strike  lastPrice     bid  \\\n",
              "0    SPXW230524P02200000 2023-05-03 13:50:47+00:00  2200.0       0.05     0.0   \n",
              "1    SPXW230524P02400000 2023-05-08 14:27:53+00:00  2400.0       0.05     0.0   \n",
              "2    SPXW230524P02600000 2023-05-17 13:30:03+00:00  2600.0       0.05     0.0   \n",
              "3    SPXW230524P02800000 2023-05-17 15:35:04+00:00  2800.0       0.05     0.0   \n",
              "4    SPXW230524P03000000 2023-05-17 15:56:09+00:00  3000.0       0.05     0.0   \n",
              "..                   ...                       ...     ...        ...     ...   \n",
              "109  SPXW230524P04340000 2023-05-19 18:10:37+00:00  4340.0     154.24   140.5   \n",
              "110  SPXW230524P04350000 2023-05-05 13:30:04+00:00  4350.0     247.45   150.9   \n",
              "111  SPXW230524P04400000 2023-05-22 19:58:17+00:00  4400.0     206.30   200.4   \n",
              "112  SPXW230524P04800000 2023-05-01 13:54:30+00:00  4800.0     613.74   600.7   \n",
              "113  SPXW230524P05200000 2023-05-22 13:46:07+00:00  5200.0     996.97  1000.6   \n",
              "\n",
              "         ask  change  percentChange  volume  openInterest  impliedVolatility  \\\n",
              "0       0.05     0.0            0.0    20.0             0           2.445316   \n",
              "1       0.05     0.0            0.0     6.0             0           2.125005   \n",
              "2       0.05     0.0            0.0    10.0             0           1.835938   \n",
              "3       0.05     0.0            0.0     1.0             0           1.562502   \n",
              "4       0.05     0.0            0.0   110.0             0           1.312503   \n",
              "..       ...     ...            ...     ...           ...                ...   \n",
              "109   142.70     0.0            0.0     2.0             0           0.000010   \n",
              "110   152.30     0.0            0.0     4.0             0           0.000010   \n",
              "111   202.10     0.0            0.0     7.0             0           0.000010   \n",
              "112   602.20     0.0            0.0     NaN             0           0.000010   \n",
              "113  1002.10     0.0            0.0     1.0             0           0.000010   \n",
              "\n",
              "     inTheMoney contractSize currency  \n",
              "0         False      REGULAR      USD  \n",
              "1         False      REGULAR      USD  \n",
              "2         False      REGULAR      USD  \n",
              "3         False      REGULAR      USD  \n",
              "4         False      REGULAR      USD  \n",
              "..          ...          ...      ...  \n",
              "109        True      REGULAR      USD  \n",
              "110        True      REGULAR      USD  \n",
              "111        True      REGULAR      USD  \n",
              "112        True      REGULAR      USD  \n",
              "113        True      REGULAR      USD  \n",
              "\n",
              "[114 rows x 14 columns]"
            ],
            "text/html": [
              "\n",
              "  <div id=\"df-b5ee70b6-c534-4ce6-9572-d413ac2e818e\">\n",
              "    <div class=\"colab-df-container\">\n",
              "      <div>\n",
              "<style scoped>\n",
              "    .dataframe tbody tr th:only-of-type {\n",
              "        vertical-align: middle;\n",
              "    }\n",
              "\n",
              "    .dataframe tbody tr th {\n",
              "        vertical-align: top;\n",
              "    }\n",
              "\n",
              "    .dataframe thead th {\n",
              "        text-align: right;\n",
              "    }\n",
              "</style>\n",
              "<table border=\"1\" class=\"dataframe\">\n",
              "  <thead>\n",
              "    <tr style=\"text-align: right;\">\n",
              "      <th></th>\n",
              "      <th>contractSymbol</th>\n",
              "      <th>lastTradeDate</th>\n",
              "      <th>strike</th>\n",
              "      <th>lastPrice</th>\n",
              "      <th>bid</th>\n",
              "      <th>ask</th>\n",
              "      <th>change</th>\n",
              "      <th>percentChange</th>\n",
              "      <th>volume</th>\n",
              "      <th>openInterest</th>\n",
              "      <th>impliedVolatility</th>\n",
              "      <th>inTheMoney</th>\n",
              "      <th>contractSize</th>\n",
              "      <th>currency</th>\n",
              "    </tr>\n",
              "  </thead>\n",
              "  <tbody>\n",
              "    <tr>\n",
              "      <th>0</th>\n",
              "      <td>SPXW230524P02200000</td>\n",
              "      <td>2023-05-03 13:50:47+00:00</td>\n",
              "      <td>2200.0</td>\n",
              "      <td>0.05</td>\n",
              "      <td>0.0</td>\n",
              "      <td>0.05</td>\n",
              "      <td>0.0</td>\n",
              "      <td>0.0</td>\n",
              "      <td>20.0</td>\n",
              "      <td>0</td>\n",
              "      <td>2.445316</td>\n",
              "      <td>False</td>\n",
              "      <td>REGULAR</td>\n",
              "      <td>USD</td>\n",
              "    </tr>\n",
              "    <tr>\n",
              "      <th>1</th>\n",
              "      <td>SPXW230524P02400000</td>\n",
              "      <td>2023-05-08 14:27:53+00:00</td>\n",
              "      <td>2400.0</td>\n",
              "      <td>0.05</td>\n",
              "      <td>0.0</td>\n",
              "      <td>0.05</td>\n",
              "      <td>0.0</td>\n",
              "      <td>0.0</td>\n",
              "      <td>6.0</td>\n",
              "      <td>0</td>\n",
              "      <td>2.125005</td>\n",
              "      <td>False</td>\n",
              "      <td>REGULAR</td>\n",
              "      <td>USD</td>\n",
              "    </tr>\n",
              "    <tr>\n",
              "      <th>2</th>\n",
              "      <td>SPXW230524P02600000</td>\n",
              "      <td>2023-05-17 13:30:03+00:00</td>\n",
              "      <td>2600.0</td>\n",
              "      <td>0.05</td>\n",
              "      <td>0.0</td>\n",
              "      <td>0.05</td>\n",
              "      <td>0.0</td>\n",
              "      <td>0.0</td>\n",
              "      <td>10.0</td>\n",
              "      <td>0</td>\n",
              "      <td>1.835938</td>\n",
              "      <td>False</td>\n",
              "      <td>REGULAR</td>\n",
              "      <td>USD</td>\n",
              "    </tr>\n",
              "    <tr>\n",
              "      <th>3</th>\n",
              "      <td>SPXW230524P02800000</td>\n",
              "      <td>2023-05-17 15:35:04+00:00</td>\n",
              "      <td>2800.0</td>\n",
              "      <td>0.05</td>\n",
              "      <td>0.0</td>\n",
              "      <td>0.05</td>\n",
              "      <td>0.0</td>\n",
              "      <td>0.0</td>\n",
              "      <td>1.0</td>\n",
              "      <td>0</td>\n",
              "      <td>1.562502</td>\n",
              "      <td>False</td>\n",
              "      <td>REGULAR</td>\n",
              "      <td>USD</td>\n",
              "    </tr>\n",
              "    <tr>\n",
              "      <th>4</th>\n",
              "      <td>SPXW230524P03000000</td>\n",
              "      <td>2023-05-17 15:56:09+00:00</td>\n",
              "      <td>3000.0</td>\n",
              "      <td>0.05</td>\n",
              "      <td>0.0</td>\n",
              "      <td>0.05</td>\n",
              "      <td>0.0</td>\n",
              "      <td>0.0</td>\n",
              "      <td>110.0</td>\n",
              "      <td>0</td>\n",
              "      <td>1.312503</td>\n",
              "      <td>False</td>\n",
              "      <td>REGULAR</td>\n",
              "      <td>USD</td>\n",
              "    </tr>\n",
              "    <tr>\n",
              "      <th>...</th>\n",
              "      <td>...</td>\n",
              "      <td>...</td>\n",
              "      <td>...</td>\n",
              "      <td>...</td>\n",
              "      <td>...</td>\n",
              "      <td>...</td>\n",
              "      <td>...</td>\n",
              "      <td>...</td>\n",
              "      <td>...</td>\n",
              "      <td>...</td>\n",
              "      <td>...</td>\n",
              "      <td>...</td>\n",
              "      <td>...</td>\n",
              "      <td>...</td>\n",
              "    </tr>\n",
              "    <tr>\n",
              "      <th>109</th>\n",
              "      <td>SPXW230524P04340000</td>\n",
              "      <td>2023-05-19 18:10:37+00:00</td>\n",
              "      <td>4340.0</td>\n",
              "      <td>154.24</td>\n",
              "      <td>140.5</td>\n",
              "      <td>142.70</td>\n",
              "      <td>0.0</td>\n",
              "      <td>0.0</td>\n",
              "      <td>2.0</td>\n",
              "      <td>0</td>\n",
              "      <td>0.000010</td>\n",
              "      <td>True</td>\n",
              "      <td>REGULAR</td>\n",
              "      <td>USD</td>\n",
              "    </tr>\n",
              "    <tr>\n",
              "      <th>110</th>\n",
              "      <td>SPXW230524P04350000</td>\n",
              "      <td>2023-05-05 13:30:04+00:00</td>\n",
              "      <td>4350.0</td>\n",
              "      <td>247.45</td>\n",
              "      <td>150.9</td>\n",
              "      <td>152.30</td>\n",
              "      <td>0.0</td>\n",
              "      <td>0.0</td>\n",
              "      <td>4.0</td>\n",
              "      <td>0</td>\n",
              "      <td>0.000010</td>\n",
              "      <td>True</td>\n",
              "      <td>REGULAR</td>\n",
              "      <td>USD</td>\n",
              "    </tr>\n",
              "    <tr>\n",
              "      <th>111</th>\n",
              "      <td>SPXW230524P04400000</td>\n",
              "      <td>2023-05-22 19:58:17+00:00</td>\n",
              "      <td>4400.0</td>\n",
              "      <td>206.30</td>\n",
              "      <td>200.4</td>\n",
              "      <td>202.10</td>\n",
              "      <td>0.0</td>\n",
              "      <td>0.0</td>\n",
              "      <td>7.0</td>\n",
              "      <td>0</td>\n",
              "      <td>0.000010</td>\n",
              "      <td>True</td>\n",
              "      <td>REGULAR</td>\n",
              "      <td>USD</td>\n",
              "    </tr>\n",
              "    <tr>\n",
              "      <th>112</th>\n",
              "      <td>SPXW230524P04800000</td>\n",
              "      <td>2023-05-01 13:54:30+00:00</td>\n",
              "      <td>4800.0</td>\n",
              "      <td>613.74</td>\n",
              "      <td>600.7</td>\n",
              "      <td>602.20</td>\n",
              "      <td>0.0</td>\n",
              "      <td>0.0</td>\n",
              "      <td>NaN</td>\n",
              "      <td>0</td>\n",
              "      <td>0.000010</td>\n",
              "      <td>True</td>\n",
              "      <td>REGULAR</td>\n",
              "      <td>USD</td>\n",
              "    </tr>\n",
              "    <tr>\n",
              "      <th>113</th>\n",
              "      <td>SPXW230524P05200000</td>\n",
              "      <td>2023-05-22 13:46:07+00:00</td>\n",
              "      <td>5200.0</td>\n",
              "      <td>996.97</td>\n",
              "      <td>1000.6</td>\n",
              "      <td>1002.10</td>\n",
              "      <td>0.0</td>\n",
              "      <td>0.0</td>\n",
              "      <td>1.0</td>\n",
              "      <td>0</td>\n",
              "      <td>0.000010</td>\n",
              "      <td>True</td>\n",
              "      <td>REGULAR</td>\n",
              "      <td>USD</td>\n",
              "    </tr>\n",
              "  </tbody>\n",
              "</table>\n",
              "<p>114 rows × 14 columns</p>\n",
              "</div>\n",
              "      <button class=\"colab-df-convert\" onclick=\"convertToInteractive('df-b5ee70b6-c534-4ce6-9572-d413ac2e818e')\"\n",
              "              title=\"Convert this dataframe to an interactive table.\"\n",
              "              style=\"display:none;\">\n",
              "        \n",
              "  <svg xmlns=\"http://www.w3.org/2000/svg\" height=\"24px\"viewBox=\"0 0 24 24\"\n",
              "       width=\"24px\">\n",
              "    <path d=\"M0 0h24v24H0V0z\" fill=\"none\"/>\n",
              "    <path d=\"M18.56 5.44l.94 2.06.94-2.06 2.06-.94-2.06-.94-.94-2.06-.94 2.06-2.06.94zm-11 1L8.5 8.5l.94-2.06 2.06-.94-2.06-.94L8.5 2.5l-.94 2.06-2.06.94zm10 10l.94 2.06.94-2.06 2.06-.94-2.06-.94-.94-2.06-.94 2.06-2.06.94z\"/><path d=\"M17.41 7.96l-1.37-1.37c-.4-.4-.92-.59-1.43-.59-.52 0-1.04.2-1.43.59L10.3 9.45l-7.72 7.72c-.78.78-.78 2.05 0 2.83L4 21.41c.39.39.9.59 1.41.59.51 0 1.02-.2 1.41-.59l7.78-7.78 2.81-2.81c.8-.78.8-2.07 0-2.86zM5.41 20L4 18.59l7.72-7.72 1.47 1.35L5.41 20z\"/>\n",
              "  </svg>\n",
              "      </button>\n",
              "      \n",
              "  <style>\n",
              "    .colab-df-container {\n",
              "      display:flex;\n",
              "      flex-wrap:wrap;\n",
              "      gap: 12px;\n",
              "    }\n",
              "\n",
              "    .colab-df-convert {\n",
              "      background-color: #E8F0FE;\n",
              "      border: none;\n",
              "      border-radius: 50%;\n",
              "      cursor: pointer;\n",
              "      display: none;\n",
              "      fill: #1967D2;\n",
              "      height: 32px;\n",
              "      padding: 0 0 0 0;\n",
              "      width: 32px;\n",
              "    }\n",
              "\n",
              "    .colab-df-convert:hover {\n",
              "      background-color: #E2EBFA;\n",
              "      box-shadow: 0px 1px 2px rgba(60, 64, 67, 0.3), 0px 1px 3px 1px rgba(60, 64, 67, 0.15);\n",
              "      fill: #174EA6;\n",
              "    }\n",
              "\n",
              "    [theme=dark] .colab-df-convert {\n",
              "      background-color: #3B4455;\n",
              "      fill: #D2E3FC;\n",
              "    }\n",
              "\n",
              "    [theme=dark] .colab-df-convert:hover {\n",
              "      background-color: #434B5C;\n",
              "      box-shadow: 0px 1px 3px 1px rgba(0, 0, 0, 0.15);\n",
              "      filter: drop-shadow(0px 1px 2px rgba(0, 0, 0, 0.3));\n",
              "      fill: #FFFFFF;\n",
              "    }\n",
              "  </style>\n",
              "\n",
              "      <script>\n",
              "        const buttonEl =\n",
              "          document.querySelector('#df-b5ee70b6-c534-4ce6-9572-d413ac2e818e button.colab-df-convert');\n",
              "        buttonEl.style.display =\n",
              "          google.colab.kernel.accessAllowed ? 'block' : 'none';\n",
              "\n",
              "        async function convertToInteractive(key) {\n",
              "          const element = document.querySelector('#df-b5ee70b6-c534-4ce6-9572-d413ac2e818e');\n",
              "          const dataTable =\n",
              "            await google.colab.kernel.invokeFunction('convertToInteractive',\n",
              "                                                     [key], {});\n",
              "          if (!dataTable) return;\n",
              "\n",
              "          const docLinkHtml = 'Like what you see? Visit the ' +\n",
              "            '<a target=\"_blank\" href=https://colab.research.google.com/notebooks/data_table.ipynb>data table notebook</a>'\n",
              "            + ' to learn more about interactive tables.';\n",
              "          element.innerHTML = '';\n",
              "          dataTable['output_type'] = 'display_data';\n",
              "          await google.colab.output.renderOutput(dataTable, element);\n",
              "          const docLink = document.createElement('div');\n",
              "          docLink.innerHTML = docLinkHtml;\n",
              "          element.appendChild(docLink);\n",
              "        }\n",
              "      </script>\n",
              "    </div>\n",
              "  </div>\n",
              "  "
            ]
          },
          "metadata": {},
          "execution_count": 9
        }
      ]
    },
    {
      "cell_type": "code",
      "source": [
        "#run this tab to make you aware of the latest price of apple stock\n",
        "\n",
        "symbol = '^SPX'\n",
        "end = date.today()\n",
        "start = end.replace(year = 2022)\n",
        "\n",
        "\n",
        "# Read data \n",
        "df = yf.download(symbol,start,end)\n",
        "\n",
        "df.tail()   "
      ],
      "metadata": {
        "colab": {
          "base_uri": "https://localhost:8080/",
          "height": 255
        },
        "id": "WlUnOMsUJdAp",
        "outputId": "4f668c42-ce23-430e-9169-ab8d5c203960"
      },
      "execution_count": 11,
      "outputs": [
        {
          "output_type": "stream",
          "name": "stdout",
          "text": [
            "\r[*********************100%***********************]  1 of 1 completed\n"
          ]
        },
        {
          "output_type": "execute_result",
          "data": {
            "text/plain": [
              "                   Open         High          Low        Close    Adj Close  \\\n",
              "Date                                                                          \n",
              "2023-05-16  4127.950195  4135.540039  4109.859863  4109.899902  4109.899902   \n",
              "2023-05-17  4122.850098  4164.669922  4113.620117  4158.770020  4158.770020   \n",
              "2023-05-18  4157.680176  4202.200195  4153.500000  4198.049805  4198.049805   \n",
              "2023-05-19  4204.149902  4212.910156  4180.200195  4191.979980  4191.979980   \n",
              "2023-05-22  4190.779785  4209.220215  4179.680176  4192.629883  4192.629883   \n",
              "\n",
              "                Volume  \n",
              "Date                    \n",
              "2023-05-16  3654200000  \n",
              "2023-05-17  4039080000  \n",
              "2023-05-18  3980500000  \n",
              "2023-05-19  4041900000  \n",
              "2023-05-22  3728520000  "
            ],
            "text/html": [
              "\n",
              "  <div id=\"df-a50cda99-8768-4b62-bf38-c800c9ce611f\">\n",
              "    <div class=\"colab-df-container\">\n",
              "      <div>\n",
              "<style scoped>\n",
              "    .dataframe tbody tr th:only-of-type {\n",
              "        vertical-align: middle;\n",
              "    }\n",
              "\n",
              "    .dataframe tbody tr th {\n",
              "        vertical-align: top;\n",
              "    }\n",
              "\n",
              "    .dataframe thead th {\n",
              "        text-align: right;\n",
              "    }\n",
              "</style>\n",
              "<table border=\"1\" class=\"dataframe\">\n",
              "  <thead>\n",
              "    <tr style=\"text-align: right;\">\n",
              "      <th></th>\n",
              "      <th>Open</th>\n",
              "      <th>High</th>\n",
              "      <th>Low</th>\n",
              "      <th>Close</th>\n",
              "      <th>Adj Close</th>\n",
              "      <th>Volume</th>\n",
              "    </tr>\n",
              "    <tr>\n",
              "      <th>Date</th>\n",
              "      <th></th>\n",
              "      <th></th>\n",
              "      <th></th>\n",
              "      <th></th>\n",
              "      <th></th>\n",
              "      <th></th>\n",
              "    </tr>\n",
              "  </thead>\n",
              "  <tbody>\n",
              "    <tr>\n",
              "      <th>2023-05-16</th>\n",
              "      <td>4127.950195</td>\n",
              "      <td>4135.540039</td>\n",
              "      <td>4109.859863</td>\n",
              "      <td>4109.899902</td>\n",
              "      <td>4109.899902</td>\n",
              "      <td>3654200000</td>\n",
              "    </tr>\n",
              "    <tr>\n",
              "      <th>2023-05-17</th>\n",
              "      <td>4122.850098</td>\n",
              "      <td>4164.669922</td>\n",
              "      <td>4113.620117</td>\n",
              "      <td>4158.770020</td>\n",
              "      <td>4158.770020</td>\n",
              "      <td>4039080000</td>\n",
              "    </tr>\n",
              "    <tr>\n",
              "      <th>2023-05-18</th>\n",
              "      <td>4157.680176</td>\n",
              "      <td>4202.200195</td>\n",
              "      <td>4153.500000</td>\n",
              "      <td>4198.049805</td>\n",
              "      <td>4198.049805</td>\n",
              "      <td>3980500000</td>\n",
              "    </tr>\n",
              "    <tr>\n",
              "      <th>2023-05-19</th>\n",
              "      <td>4204.149902</td>\n",
              "      <td>4212.910156</td>\n",
              "      <td>4180.200195</td>\n",
              "      <td>4191.979980</td>\n",
              "      <td>4191.979980</td>\n",
              "      <td>4041900000</td>\n",
              "    </tr>\n",
              "    <tr>\n",
              "      <th>2023-05-22</th>\n",
              "      <td>4190.779785</td>\n",
              "      <td>4209.220215</td>\n",
              "      <td>4179.680176</td>\n",
              "      <td>4192.629883</td>\n",
              "      <td>4192.629883</td>\n",
              "      <td>3728520000</td>\n",
              "    </tr>\n",
              "  </tbody>\n",
              "</table>\n",
              "</div>\n",
              "      <button class=\"colab-df-convert\" onclick=\"convertToInteractive('df-a50cda99-8768-4b62-bf38-c800c9ce611f')\"\n",
              "              title=\"Convert this dataframe to an interactive table.\"\n",
              "              style=\"display:none;\">\n",
              "        \n",
              "  <svg xmlns=\"http://www.w3.org/2000/svg\" height=\"24px\"viewBox=\"0 0 24 24\"\n",
              "       width=\"24px\">\n",
              "    <path d=\"M0 0h24v24H0V0z\" fill=\"none\"/>\n",
              "    <path d=\"M18.56 5.44l.94 2.06.94-2.06 2.06-.94-2.06-.94-.94-2.06-.94 2.06-2.06.94zm-11 1L8.5 8.5l.94-2.06 2.06-.94-2.06-.94L8.5 2.5l-.94 2.06-2.06.94zm10 10l.94 2.06.94-2.06 2.06-.94-2.06-.94-.94-2.06-.94 2.06-2.06.94z\"/><path d=\"M17.41 7.96l-1.37-1.37c-.4-.4-.92-.59-1.43-.59-.52 0-1.04.2-1.43.59L10.3 9.45l-7.72 7.72c-.78.78-.78 2.05 0 2.83L4 21.41c.39.39.9.59 1.41.59.51 0 1.02-.2 1.41-.59l7.78-7.78 2.81-2.81c.8-.78.8-2.07 0-2.86zM5.41 20L4 18.59l7.72-7.72 1.47 1.35L5.41 20z\"/>\n",
              "  </svg>\n",
              "      </button>\n",
              "      \n",
              "  <style>\n",
              "    .colab-df-container {\n",
              "      display:flex;\n",
              "      flex-wrap:wrap;\n",
              "      gap: 12px;\n",
              "    }\n",
              "\n",
              "    .colab-df-convert {\n",
              "      background-color: #E8F0FE;\n",
              "      border: none;\n",
              "      border-radius: 50%;\n",
              "      cursor: pointer;\n",
              "      display: none;\n",
              "      fill: #1967D2;\n",
              "      height: 32px;\n",
              "      padding: 0 0 0 0;\n",
              "      width: 32px;\n",
              "    }\n",
              "\n",
              "    .colab-df-convert:hover {\n",
              "      background-color: #E2EBFA;\n",
              "      box-shadow: 0px 1px 2px rgba(60, 64, 67, 0.3), 0px 1px 3px 1px rgba(60, 64, 67, 0.15);\n",
              "      fill: #174EA6;\n",
              "    }\n",
              "\n",
              "    [theme=dark] .colab-df-convert {\n",
              "      background-color: #3B4455;\n",
              "      fill: #D2E3FC;\n",
              "    }\n",
              "\n",
              "    [theme=dark] .colab-df-convert:hover {\n",
              "      background-color: #434B5C;\n",
              "      box-shadow: 0px 1px 3px 1px rgba(0, 0, 0, 0.15);\n",
              "      filter: drop-shadow(0px 1px 2px rgba(0, 0, 0, 0.3));\n",
              "      fill: #FFFFFF;\n",
              "    }\n",
              "  </style>\n",
              "\n",
              "      <script>\n",
              "        const buttonEl =\n",
              "          document.querySelector('#df-a50cda99-8768-4b62-bf38-c800c9ce611f button.colab-df-convert');\n",
              "        buttonEl.style.display =\n",
              "          google.colab.kernel.accessAllowed ? 'block' : 'none';\n",
              "\n",
              "        async function convertToInteractive(key) {\n",
              "          const element = document.querySelector('#df-a50cda99-8768-4b62-bf38-c800c9ce611f');\n",
              "          const dataTable =\n",
              "            await google.colab.kernel.invokeFunction('convertToInteractive',\n",
              "                                                     [key], {});\n",
              "          if (!dataTable) return;\n",
              "\n",
              "          const docLinkHtml = 'Like what you see? Visit the ' +\n",
              "            '<a target=\"_blank\" href=https://colab.research.google.com/notebooks/data_table.ipynb>data table notebook</a>'\n",
              "            + ' to learn more about interactive tables.';\n",
              "          element.innerHTML = '';\n",
              "          dataTable['output_type'] = 'display_data';\n",
              "          await google.colab.output.renderOutput(dataTable, element);\n",
              "          const docLink = document.createElement('div');\n",
              "          docLink.innerHTML = docLinkHtml;\n",
              "          element.appendChild(docLink);\n",
              "        }\n",
              "      </script>\n",
              "    </div>\n",
              "  </div>\n",
              "  "
            ]
          },
          "metadata": {},
          "execution_count": 11
        }
      ]
    },
    {
      "cell_type": "markdown",
      "source": [
        "# **PAYOFF FROM CALL AND PUT OPTIONS**"
      ],
      "metadata": {
        "id": "oICOkeaUKAsV"
      }
    },
    {
      "cell_type": "markdown",
      "source": [
        "# **Call option**\n",
        "payoff=max(-C, S - X - C)\n"
      ],
      "metadata": {
        "id": "r7xo-AWNKLFL"
      }
    },
    {
      "cell_type": "markdown",
      "source": [
        "# **Put option**\n",
        "payoff=max(-P, X - S - P)\n",
        "\n",
        "P and C are premiums of calls and puts\n",
        "\n",
        "S is the stock price\n",
        "\n",
        "X is the strike price"
      ],
      "metadata": {
        "id": "Ty1pnb9hKkRT"
      }
    },
    {
      "cell_type": "code",
      "source": [
        "def payoff(option_type, premium, S, X):\n",
        "  Payoff = 0\n",
        "\n",
        "  if option_type == 'C':\n",
        "      Payoff = max(-premium, S-X-premium)\n",
        "  elif option_type == 'P':\n",
        "      Payoff = max(-premium, X-S-premium)\n",
        "  else:\n",
        "      print(\"Option type not supported\")\n",
        "  return Payoff"
      ],
      "metadata": {
        "id": "wlDo9ugnK44j"
      },
      "execution_count": 12,
      "outputs": []
    },
    {
      "cell_type": "markdown",
      "source": [
        "Checking the output of payoff function"
      ],
      "metadata": {
        "id": "aNBj-fz_LIJS"
      }
    },
    {
      "cell_type": "code",
      "source": [
        "payoff('C', 10, 120,100)  #answer displayed should be 10"
      ],
      "metadata": {
        "colab": {
          "base_uri": "https://localhost:8080/"
        },
        "id": "ASmbLkhwLDkQ",
        "outputId": "ba48b9eb-303a-4f02-fa59-032a1f450e53"
      },
      "execution_count": 13,
      "outputs": [
        {
          "output_type": "execute_result",
          "data": {
            "text/plain": [
              "10"
            ]
          },
          "metadata": {},
          "execution_count": 13
        }
      ]
    },
    {
      "cell_type": "code",
      "source": [
        "payoff('Z', 10, 120, 100)  #answer displayed should be option type not supported"
      ],
      "metadata": {
        "colab": {
          "base_uri": "https://localhost:8080/"
        },
        "id": "UGeiiiIXLQNa",
        "outputId": "438ba534-a078-4422-c10d-584392c8a8c0"
      },
      "execution_count": 14,
      "outputs": [
        {
          "output_type": "stream",
          "name": "stdout",
          "text": [
            "Option type not supported\n"
          ]
        },
        {
          "output_type": "execute_result",
          "data": {
            "text/plain": [
              "0"
            ]
          },
          "metadata": {},
          "execution_count": 14
        }
      ]
    },
    {
      "cell_type": "code",
      "source": [
        "payoff('P', 10, 120, 100)  #answer displayed should be -10"
      ],
      "metadata": {
        "colab": {
          "base_uri": "https://localhost:8080/"
        },
        "id": "uCbd0DSuLUGI",
        "outputId": "29a23c72-840a-43f3-e439-11e9b8a99714"
      },
      "execution_count": 15,
      "outputs": [
        {
          "output_type": "execute_result",
          "data": {
            "text/plain": [
              "-10"
            ]
          },
          "metadata": {},
          "execution_count": 15
        }
      ]
    },
    {
      "cell_type": "markdown",
      "source": [
        "# **PAYOFF GRAPHS**"
      ],
      "metadata": {
        "id": "Kv79JTmZLcr9"
      }
    },
    {
      "cell_type": "markdown",
      "source": [
        "**CALL OPTION**"
      ],
      "metadata": {
        "id": "yAjGKAsBLiC7"
      }
    },
    {
      "cell_type": "code",
      "source": [
        "X = dfo_exp.calls['strike'][0]\n",
        "premium = dfo_exp.calls['lastPrice'][0]"
      ],
      "metadata": {
        "id": "iooKT6XyLk99"
      },
      "execution_count": 16,
      "outputs": []
    },
    {
      "cell_type": "code",
      "source": [
        "StockPrice = np.arange(0, 6000)\n",
        "Payoff = [payoff('C', premium, i, X) for i in StockPrice]"
      ],
      "metadata": {
        "id": "sx03ShPyLtR9"
      },
      "execution_count": 21,
      "outputs": []
    },
    {
      "cell_type": "code",
      "source": [
        "#PLOTTING THE PAYOFF GRAPH FOR CALL OPTION\n",
        "plt.plot(StockPrice, Payoff, label = 'payoff line')\n",
        "plt.xlabel('Stock Price')\n",
        "plt.ylabel('payoff')\n",
        "plt.title('Call option Payoff at Expiry')\n",
        "plt.grid(True)\n",
        "\n",
        "#breakeven point is when payoff is 0 or S=X+C\n",
        "plt.plot(X+premium, 0, 'ro', label = 'breakeven point')\n",
        "plt.legend()"
      ],
      "metadata": {
        "colab": {
          "base_uri": "https://localhost:8080/",
          "height": 489
        },
        "id": "08HAsGo_Lw7O",
        "outputId": "200fec59-573f-44ed-e95c-81f08bc46c39"
      },
      "execution_count": 22,
      "outputs": [
        {
          "output_type": "execute_result",
          "data": {
            "text/plain": [
              "<matplotlib.legend.Legend at 0x7fc98d9bace0>"
            ]
          },
          "metadata": {},
          "execution_count": 22
        },
        {
          "output_type": "display_data",
          "data": {
            "text/plain": [
              "<Figure size 640x480 with 1 Axes>"
            ],
            "image/png": "[encoded data removed]"
          },
          "metadata": {}
        }
      ]
    },
    {
      "cell_type": "markdown",
      "source": [
        "**PUT OPTION**"
      ],
      "metadata": {
        "id": "vzC7xCMtMRgA"
      }
    },
    {
      "cell_type": "code",
      "source": [
        "X = dfo_exp.puts['strike'][len(dfo_exp.puts)-1]\n",
        "premium = dfo_exp.puts['lastPrice'][len(dfo_exp.puts)-1]"
      ],
      "metadata": {
        "id": "s3yKpMK-MPHO"
      },
      "execution_count": 25,
      "outputs": []
    },
    {
      "cell_type": "code",
      "source": [
        "StockPrice = np.arange(0, 6000)\n",
        "Payoff = [payoff('P', premium, i, X) for i in StockPrice]"
      ],
      "metadata": {
        "id": "kDase9DRMY-i"
      },
      "execution_count": 26,
      "outputs": []
    },
    {
      "cell_type": "code",
      "source": [
        "#PLOTTING THE PAYOFF GRAPH FOR PUT OPTION\n",
        "plt.plot(StockPrice, Payoff, label = 'payoff line')\n",
        "plt.xlabel('Stock Price')\n",
        "plt.ylabel('payoff')\n",
        "plt.title('Put option Payoff at Expiry')\n",
        "plt.grid(True)\n",
        "\n",
        "#breakeven point is when payoff is 0 or S=X-P\n",
        "plt.plot(X-premium, 0, 'ro', label = 'breakeven point')\n",
        "plt.legend()"
      ],
      "metadata": {
        "colab": {
          "base_uri": "https://localhost:8080/",
          "height": 489
        },
        "id": "uayOK2heMcd0",
        "outputId": "c5ca04ab-3de2-47c9-c30b-b6c55c6d8f33"
      },
      "execution_count": 27,
      "outputs": [
        {
          "output_type": "execute_result",
          "data": {
            "text/plain": [
              "<matplotlib.legend.Legend at 0x7fc95b3d0df0>"
            ]
          },
          "metadata": {},
          "execution_count": 27
        },
        {
          "output_type": "display_data",
          "data": {
            "text/plain": [
              "<Figure size 640x480 with 1 Axes>"
            ],
            "image/png": "[encoded data removed]"
          },
          "metadata": {}
        }
      ]
    }
  ]
}